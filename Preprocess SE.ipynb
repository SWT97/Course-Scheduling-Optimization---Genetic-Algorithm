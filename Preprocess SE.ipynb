{
 "cells": [
  {
   "cell_type": "code",
   "execution_count": 3,
   "metadata": {},
   "outputs": [],
   "source": [
    "import pandas as pd\n",
    "import warnings\n",
    "warnings.filterwarnings('ignore')"
   ]
  },
  {
   "cell_type": "markdown",
   "metadata": {},
   "source": [
    "SE"
   ]
  },
  {
   "cell_type": "code",
   "execution_count": 4,
   "metadata": {},
   "outputs": [
    {
     "data": {
      "text/html": [
       "<div>\n",
       "<style scoped>\n",
       "    .dataframe tbody tr th:only-of-type {\n",
       "        vertical-align: middle;\n",
       "    }\n",
       "\n",
       "    .dataframe tbody tr th {\n",
       "        vertical-align: top;\n",
       "    }\n",
       "\n",
       "    .dataframe thead th {\n",
       "        text-align: right;\n",
       "    }\n",
       "</style>\n",
       "<table border=\"1\" class=\"dataframe\">\n",
       "  <thead>\n",
       "    <tr style=\"text-align: right;\">\n",
       "      <th></th>\n",
       "      <th>STUDENT_NUMBER</th>\n",
       "      <th>COURSE_DESCRIPTION</th>\n",
       "      <th>INTAKE_CODE</th>\n",
       "      <th>MODULE_CODE</th>\n",
       "      <th>MODULE_NAME</th>\n",
       "      <th>GRADE</th>\n",
       "      <th>STUDY_MODE</th>\n",
       "    </tr>\n",
       "  </thead>\n",
       "  <tbody>\n",
       "    <tr>\n",
       "      <th>0</th>\n",
       "      <td>ABC0001</td>\n",
       "      <td>MSc in Data Science and Business Analytics</td>\n",
       "      <td>UCMP1709DSBA</td>\n",
       "      <td>AQ049-3-M-MMDA</td>\n",
       "      <td>Multivariate Methods for Data Analysis</td>\n",
       "      <td>B+</td>\n",
       "      <td>Part time</td>\n",
       "    </tr>\n",
       "    <tr>\n",
       "      <th>1</th>\n",
       "      <td>ABC0001</td>\n",
       "      <td>MSc in Data Science and Business Analytics</td>\n",
       "      <td>UCMP1709DSBA</td>\n",
       "      <td>AQ050-3-M-TSAF</td>\n",
       "      <td>Time Series Analysis and Forecasting</td>\n",
       "      <td>C-</td>\n",
       "      <td>Part time</td>\n",
       "    </tr>\n",
       "    <tr>\n",
       "      <th>2</th>\n",
       "      <td>ABC0001</td>\n",
       "      <td>MSc in Data Science and Business Analytics</td>\n",
       "      <td>UCMP1709DSBA</td>\n",
       "      <td>AQ051-3-M-MDA</td>\n",
       "      <td>Multilevel Data Analysis</td>\n",
       "      <td>A</td>\n",
       "      <td>Part time</td>\n",
       "    </tr>\n",
       "    <tr>\n",
       "      <th>3</th>\n",
       "      <td>ABC0001</td>\n",
       "      <td>MSc in Data Science and Business Analytics</td>\n",
       "      <td>UCMP1709DSBA</td>\n",
       "      <td>AQ052-3-M-ORO</td>\n",
       "      <td>Operational Research and Optimisation</td>\n",
       "      <td>NaN</td>\n",
       "      <td>Part time</td>\n",
       "    </tr>\n",
       "    <tr>\n",
       "      <th>4</th>\n",
       "      <td>ABC0001</td>\n",
       "      <td>MSc in Data Science and Business Analytics</td>\n",
       "      <td>UCMP1709DSBA</td>\n",
       "      <td>BM026-3-M-SEM</td>\n",
       "      <td>Strategies in Emerging Markets</td>\n",
       "      <td>NaN</td>\n",
       "      <td>Part time</td>\n",
       "    </tr>\n",
       "  </tbody>\n",
       "</table>\n",
       "</div>"
      ],
      "text/plain": [
       "  STUDENT_NUMBER                          COURSE_DESCRIPTION   INTAKE_CODE  \\\n",
       "0        ABC0001  MSc in Data Science and Business Analytics  UCMP1709DSBA   \n",
       "1        ABC0001  MSc in Data Science and Business Analytics  UCMP1709DSBA   \n",
       "2        ABC0001  MSc in Data Science and Business Analytics  UCMP1709DSBA   \n",
       "3        ABC0001  MSc in Data Science and Business Analytics  UCMP1709DSBA   \n",
       "4        ABC0001  MSc in Data Science and Business Analytics  UCMP1709DSBA   \n",
       "\n",
       "      MODULE_CODE                             MODULE_NAME GRADE STUDY_MODE  \n",
       "0  AQ049-3-M-MMDA  Multivariate Methods for Data Analysis    B+  Part time  \n",
       "1  AQ050-3-M-TSAF    Time Series Analysis and Forecasting    C-  Part time  \n",
       "2   AQ051-3-M-MDA                Multilevel Data Analysis     A  Part time  \n",
       "3   AQ052-3-M-ORO   Operational Research and Optimisation   NaN  Part time  \n",
       "4   BM026-3-M-SEM          Strategies in Emerging Markets   NaN  Part time  "
      ]
     },
     "execution_count": 4,
     "metadata": {},
     "output_type": "execute_result"
    }
   ],
   "source": [
    "SE_students_data = pd.read_excel(\"data_v1.xlsx\")\n",
    "SE_students_data.head()"
   ]
  },
  {
   "cell_type": "code",
   "execution_count": 5,
   "metadata": {},
   "outputs": [],
   "source": [
    "SE_students_data = SE_students_data[SE_students_data['COURSE_DESCRIPTION'] != 'MSc in Data Science and Business Analytics']\n",
    "SE_students_data = SE_students_data.drop([\"INTAKE_CODE\", \"MODULE_CODE\", \"STUDY_MODE\"], axis=1)\n",
    "\n",
    "module_name_changes = {\n",
    "    'Managing Software Development Projects': 'MSDP',\n",
    "    'Reliability Management': 'RM',\n",
    "    'Object-Oriented Software Systems Engineering': 'OOSSE',\n",
    "    'Object Oriented Software Systems Engineering': 'OOSSE',\n",
    "    'Software Engineering Support Environments': 'SESE',\n",
    "    'Software Quality Engineering': 'SQE',\n",
    "    'Security Technologies': 'ST',\n",
    "    'Research Methodology in Computing and Engineering': 'RMCE | RMCP',\n",
    "    'Big Data Analytics and Technologies': 'BDAT',\n",
    "    'Data Management': 'DM',\n",
    "    'Internet Applications': 'IA',\n",
    "    'Natural Language Processing': 'MDA | NLP',\n",
    "    'Network Design and Performance': 'NDP'\n",
    "    # 'Final Dissertation': 'Project',\n",
    "    # 'Project Paper': 'Project',\n",
    "    # 'Dissertation': 'Project',\n",
    "    # 'MSc Dissertation': 'Project',\n",
    "    # 'Research Paper': 'Project'\n",
    "}\n",
    "\n",
    "SE_students_data['MODULE_NAME'] = SE_students_data['MODULE_NAME'].replace(module_name_changes)\n",
    "\n",
    "valid_modules = ['MSDP', 'RM', 'OOSSE', 'SESE', 'SQE', 'ST', 'RMCE | RMCP', 'BDAT', 'DM', 'IA', 'MDA | NLP', 'NDP']\n",
    "SE_students_data = SE_students_data[SE_students_data['MODULE_NAME'].isin(valid_modules)]"
   ]
  },
  {
   "cell_type": "code",
   "execution_count": 6,
   "metadata": {},
   "outputs": [
    {
     "data": {
      "text/html": [
       "<div>\n",
       "<style scoped>\n",
       "    .dataframe tbody tr th:only-of-type {\n",
       "        vertical-align: middle;\n",
       "    }\n",
       "\n",
       "    .dataframe tbody tr th {\n",
       "        vertical-align: top;\n",
       "    }\n",
       "\n",
       "    .dataframe thead th {\n",
       "        text-align: right;\n",
       "    }\n",
       "</style>\n",
       "<table border=\"1\" class=\"dataframe\">\n",
       "  <thead>\n",
       "    <tr style=\"text-align: right;\">\n",
       "      <th></th>\n",
       "      <th>STUDENT_NUMBER</th>\n",
       "      <th>COURSE_DESCRIPTION</th>\n",
       "      <th>MODULE_NAME</th>\n",
       "      <th>GRADE</th>\n",
       "    </tr>\n",
       "  </thead>\n",
       "  <tbody>\n",
       "    <tr>\n",
       "      <th>413</th>\n",
       "      <td>ABC0106</td>\n",
       "      <td>MSc in Software Engineering</td>\n",
       "      <td>SESE</td>\n",
       "      <td>M</td>\n",
       "    </tr>\n",
       "    <tr>\n",
       "      <th>423</th>\n",
       "      <td>ABC0106</td>\n",
       "      <td>MSc in Software Engineering</td>\n",
       "      <td>SESE</td>\n",
       "      <td>NaN</td>\n",
       "    </tr>\n",
       "  </tbody>\n",
       "</table>\n",
       "</div>"
      ],
      "text/plain": [
       "    STUDENT_NUMBER           COURSE_DESCRIPTION MODULE_NAME GRADE\n",
       "413        ABC0106  MSc in Software Engineering        SESE     M\n",
       "423        ABC0106  MSc in Software Engineering        SESE   NaN"
      ]
     },
     "execution_count": 6,
     "metadata": {},
     "output_type": "execute_result"
    }
   ],
   "source": [
    "duplicated_modules = SE_students_data[SE_students_data.duplicated(['STUDENT_NUMBER', 'MODULE_NAME'], keep=False)]\n",
    "duplicated_modules"
   ]
  },
  {
   "cell_type": "code",
   "execution_count": 7,
   "metadata": {},
   "outputs": [],
   "source": [
    "duplicated_modules = SE_students_data[SE_students_data.duplicated(['STUDENT_NUMBER', 'MODULE_NAME'], keep=False)]\n",
    "\n",
    "# Function to decide which row to keep based on 'GRADE'\n",
    "def filter_grades(group):\n",
    "    if group['GRADE'].notna().sum() > 0:\n",
    "        return group[group['GRADE'].notna()].drop_duplicates(subset=['STUDENT_NUMBER', 'MODULE_NAME'], keep='first')\n",
    "    else:\n",
    "        return group.drop_duplicates(subset=['STUDENT_NUMBER', 'MODULE_NAME'], keep='first')\n",
    "\n",
    "# Apply the function to each group\n",
    "filtered_students = duplicated_modules.groupby(['STUDENT_NUMBER', 'MODULE_NAME']).apply(filter_grades).reset_index(drop=True)\n",
    "\n",
    "# Combine with original DataFrame to get the final cleaned DataFrame\n",
    "SE_students_data = pd.concat([SE_students_data.drop(index=duplicated_modules.index), filtered_students])"
   ]
  },
  {
   "cell_type": "code",
   "execution_count": 8,
   "metadata": {},
   "outputs": [],
   "source": [
    "SE_students_data.reset_index(drop=True, inplace=True)"
   ]
  },
  {
   "cell_type": "code",
   "execution_count": 9,
   "metadata": {},
   "outputs": [
    {
     "data": {
      "text/html": [
       "<div>\n",
       "<style scoped>\n",
       "    .dataframe tbody tr th:only-of-type {\n",
       "        vertical-align: middle;\n",
       "    }\n",
       "\n",
       "    .dataframe tbody tr th {\n",
       "        vertical-align: top;\n",
       "    }\n",
       "\n",
       "    .dataframe thead th {\n",
       "        text-align: right;\n",
       "    }\n",
       "</style>\n",
       "<table border=\"1\" class=\"dataframe\">\n",
       "  <thead>\n",
       "    <tr style=\"text-align: right;\">\n",
       "      <th></th>\n",
       "      <th>STUDENT_NUMBER</th>\n",
       "      <th>COURSE_DESCRIPTION</th>\n",
       "      <th>MODULE_NAME</th>\n",
       "      <th>GRADE</th>\n",
       "    </tr>\n",
       "  </thead>\n",
       "  <tbody>\n",
       "    <tr>\n",
       "      <th>0</th>\n",
       "      <td>ABC0013</td>\n",
       "      <td>MSc in Software Engineering</td>\n",
       "      <td>BDAT</td>\n",
       "      <td>NaN</td>\n",
       "    </tr>\n",
       "    <tr>\n",
       "      <th>1</th>\n",
       "      <td>ABC0013</td>\n",
       "      <td>MSc in Software Engineering</td>\n",
       "      <td>DM</td>\n",
       "      <td>B+</td>\n",
       "    </tr>\n",
       "    <tr>\n",
       "      <th>2</th>\n",
       "      <td>ABC0013</td>\n",
       "      <td>MSc in Software Engineering</td>\n",
       "      <td>RMCE | RMCP</td>\n",
       "      <td>C</td>\n",
       "    </tr>\n",
       "    <tr>\n",
       "      <th>3</th>\n",
       "      <td>ABC0013</td>\n",
       "      <td>MSc in Software Engineering</td>\n",
       "      <td>MSDP</td>\n",
       "      <td>A</td>\n",
       "    </tr>\n",
       "    <tr>\n",
       "      <th>4</th>\n",
       "      <td>ABC0013</td>\n",
       "      <td>MSc in Software Engineering</td>\n",
       "      <td>IA</td>\n",
       "      <td>B+</td>\n",
       "    </tr>\n",
       "  </tbody>\n",
       "</table>\n",
       "</div>"
      ],
      "text/plain": [
       "  STUDENT_NUMBER           COURSE_DESCRIPTION  MODULE_NAME GRADE\n",
       "0        ABC0013  MSc in Software Engineering         BDAT   NaN\n",
       "1        ABC0013  MSc in Software Engineering           DM    B+\n",
       "2        ABC0013  MSc in Software Engineering  RMCE | RMCP     C\n",
       "3        ABC0013  MSc in Software Engineering         MSDP     A\n",
       "4        ABC0013  MSc in Software Engineering           IA    B+"
      ]
     },
     "execution_count": 9,
     "metadata": {},
     "output_type": "execute_result"
    }
   ],
   "source": [
    "SE_students_data.head()"
   ]
  },
  {
   "cell_type": "code",
   "execution_count": 10,
   "metadata": {},
   "outputs": [
    {
     "name": "stdout",
     "output_type": "stream",
     "text": [
      "Empty DataFrame\n",
      "Columns: [STUDENT_NUMBER, COURSE_DESCRIPTION, MODULE_NAME, GRADE]\n",
      "Index: []\n"
     ]
    }
   ],
   "source": [
    "duplicated_modules = SE_students_data[SE_students_data.duplicated(['STUDENT_NUMBER', 'MODULE_NAME'], keep=False)]\n",
    "print(duplicated_modules)"
   ]
  },
  {
   "cell_type": "code",
   "execution_count": 11,
   "metadata": {},
   "outputs": [
    {
     "name": "stdout",
     "output_type": "stream",
     "text": [
      "{'ABC0013': {'Modules': ['BDAT', 'DM', 'RMCE | RMCP', 'MSDP', 'IA', 'NDP', 'OOSSE', 'RM', 'ST', 'SESE', 'SQE'], 'Grades': [nan, 'B+', 'C', 'A', 'B+', 'C-', 'B+', 'B', 'B+', 'C', 'C']}, 'ABC0074': {'Modules': ['MSDP', 'NDP', 'OOSSE', 'RM', 'ST', 'SESE', 'SQE', 'RMCE | RMCP'], 'Grades': [nan, nan, nan, nan, nan, 'U', 'A', nan]}, 'ABC0099': {'Modules': ['BDAT', 'MDA | NLP', 'MSDP', 'IA', 'NDP', 'OOSSE', 'RM', 'ST', 'SESE', 'SQE', 'RMCE | RMCP'], 'Grades': ['C+', 'A', 'B+', 'A', nan, 'B+', 'B+', 'B+', 'A', 'A+', 'A']}, 'ABC0106': {'Modules': ['OOSSE', 'SQE', 'RM', 'SESE'], 'Grades': ['D', 'M', 'D', 'M']}, 'ABC0109': {'Modules': ['BDAT', 'DM', 'MDA | NLP', 'MSDP', 'IA', 'NDP', 'OOSSE', 'RM', 'ST', 'SESE', 'SQE', 'RMCE | RMCP'], 'Grades': ['A', 'B+', nan, 'B+', nan, nan, nan, nan, 'A', 'A', 'B', nan]}, 'ABC0110': {'Modules': ['BDAT', 'DM', 'MSDP', 'IA', 'NDP', 'OOSSE', 'RM', 'ST', 'SESE', 'SQE', 'RMCE | RMCP'], 'Grades': ['A', nan, 'A+', 'A+', nan, 'A', nan, 'A', 'A+', 'A+', 'A']}, 'ABC0112': {'Modules': ['BDAT', 'DM', 'MDA | NLP', 'MSDP', 'IA', 'NDP', 'OOSSE', 'RM', 'ST', 'SESE', 'SQE', 'RMCE | RMCP'], 'Grades': ['A+', nan, nan, 'B+', nan, nan, 'A', 'A+', 'A', 'C+', 'B+', 'A']}, 'ABC0122': {'Modules': ['BDAT', 'MDA | NLP', 'MSDP', 'IA', 'NDP', 'OOSSE', 'RM', 'ST', 'SESE', 'SQE', 'RMCE | RMCP'], 'Grades': [nan, nan, nan, nan, nan, nan, 'F-', nan, nan, nan, nan]}, 'ABC0145': {'Modules': ['BDAT', 'DM', 'MDA | NLP', 'MSDP', 'IA', 'NDP', 'OOSSE', 'RM', 'ST', 'SESE', 'SQE', 'RMCE | RMCP'], 'Grades': ['B+', nan, 'B+', 'A', nan, 'A', 'A+', 'A+', 'B+', 'A+', 'A+', 'B+']}, 'ABC0184': {'Modules': ['BDAT', 'DM', 'MDA | NLP', 'MSDP', 'IA', 'NDP', 'OOSSE', 'RM', 'ST', 'SESE', 'SQE', 'RMCE | RMCP'], 'Grades': ['B+', 'A', 'B+', nan, nan, nan, nan, nan, nan, nan, nan, nan]}, 'ABC0200': {'Modules': ['BDAT', 'DM', 'MSDP', 'NDP', 'OOSSE', 'RM', 'ST', 'SESE', 'SQE', 'RMCE | RMCP'], 'Grades': ['A+', 'A', 'A', 'A', 'A', 'A+', 'A+', 'A', 'A+', 'A+']}, 'ABC0201': {'Modules': ['BDAT', 'MDA | NLP', 'MSDP', 'IA', 'NDP', 'OOSSE', 'RM', 'ST', 'SESE', 'SQE', 'RMCE | RMCP'], 'Grades': ['C', 'B+', 'B', 'B+', nan, nan, 'A+', 'B', 'B', 'C-', 'B+']}, 'ABC0202': {'Modules': ['BDAT', 'DM', 'MSDP', 'IA', 'NDP', 'OOSSE', 'RM', 'ST', 'SESE', 'SQE', 'RMCE | RMCP'], 'Grades': ['A', 'B', nan, 'A', nan, 'A+', 'A+', 'A', 'B+', 'A+', 'B+']}, 'ABC0210': {'Modules': ['BDAT', 'DM', 'MDA | NLP', 'MSDP', 'IA', 'NDP', 'OOSSE', 'RM', 'ST', 'SESE', 'SQE', 'RMCE | RMCP'], 'Grades': ['B+', 'B+', nan, 'A', nan, 'B+', 'A', 'A+', 'A', 'B+', 'A', 'A']}, 'ABC0219': {'Modules': ['DM', 'MSDP', 'IA', 'OOSSE', 'RM', 'ST', 'SESE', 'SQE', 'RMCE | RMCP'], 'Grades': ['A', 'A', 'A+', 'A+', 'A+', 'A', 'B+', 'A+', 'A']}, 'ABC0225': {'Modules': ['BDAT', 'DM', 'MSDP', 'IA', 'NDP', 'OOSSE', 'RM', 'ST', 'SESE', 'SQE', 'RMCE | RMCP'], 'Grades': [nan, 'F', 'B+', 'U', 'B', 'C-', 'A', 'C-', 'B', 'F+', 'U']}, 'ABC0266': {'Modules': ['SESE', 'RM'], 'Grades': ['D', 'M']}, 'ABC0274': {'Modules': ['BDAT', 'MDA | NLP', 'RMCE | RMCP', 'MSDP', 'IA', 'NDP', 'OOSSE', 'RM', 'ST', 'SESE', 'SQE'], 'Grades': ['B', 'C', 'C-', 'B', nan, 'C+', 'C+', 'B', 'C', 'C+', 'C-']}, 'ABC0277': {'Modules': ['BDAT', 'MDA | NLP', 'RMCE | RMCP', 'MSDP', 'IA', 'NDP', 'OOSSE', 'RM', 'ST', 'SESE', 'SQE'], 'Grades': ['C-', 'B+', 'B+', 'B+', nan, 'B', 'A', 'A+', 'B+', 'B', 'B+']}, 'ABC0291': {'Modules': ['BDAT', 'MDA | NLP', 'RMCE | RMCP', 'MSDP', 'IA', 'NDP', 'OOSSE', 'RM', 'ST', 'SESE', 'SQE'], 'Grades': ['D', 'B+', 'B+', 'B+', 'B', nan, 'A', 'A', 'A', 'B', 'B+']}, 'ABC0501': {'Modules': ['BDAT', 'DM', 'MDA | NLP', 'RMCE | RMCP', 'MSDP', 'IA', 'NDP', 'OOSSE', 'RM', 'ST', 'SESE', 'SQE'], 'Grades': [nan, 'C-', 'C+', 'A', 'B', 'C-', nan, 'B+', 'C-', 'C+', 'C', 'C-']}, 'ABC0503': {'Modules': ['BDAT', 'MDA | NLP', 'MSDP', 'IA', 'NDP', 'OOSSE', 'RM', 'ST', 'SESE', 'SQE', 'RMCE | RMCP'], 'Grades': ['B+', nan, nan, nan, nan, nan, 'B+', nan, nan, 'A', nan]}, 'ABC0555': {'Modules': ['BDAT', 'DM', 'MDA | NLP', 'MSDP', 'IA', 'NDP', 'OOSSE', 'RM', 'ST', 'SESE', 'SQE', 'RMCE | RMCP'], 'Grades': ['C+', 'B+', nan, 'A', 'B+', nan, 'A+', 'A', 'C+', 'B', 'A+', 'B+']}}\n"
     ]
    }
   ],
   "source": [
    "SE_each_student_info = SE_students_data.groupby('STUDENT_NUMBER').apply(\n",
    "    lambda x:{'Modules': x['MODULE_NAME'].tolist(), 'Grades': x['GRADE'].tolist()}\n",
    ").to_dict()\n",
    "\n",
    "print(SE_each_student_info)"
   ]
  },
  {
   "cell_type": "code",
   "execution_count": 12,
   "metadata": {},
   "outputs": [
    {
     "name": "stdout",
     "output_type": "stream",
     "text": [
      "Incomplete Modules: {'ABC0013': ['BDAT'], 'ABC0074': ['MSDP', 'NDP', 'OOSSE', 'RM', 'ST', 'RMCE | RMCP'], 'ABC0099': ['NDP'], 'ABC0106': [], 'ABC0109': ['MDA | NLP', 'IA', 'NDP', 'OOSSE', 'RM', 'RMCE | RMCP'], 'ABC0110': ['DM', 'NDP', 'RM'], 'ABC0112': ['DM', 'MDA | NLP', 'IA', 'NDP'], 'ABC0122': ['BDAT', 'MDA | NLP', 'MSDP', 'IA', 'NDP', 'OOSSE', 'ST', 'SESE', 'SQE', 'RMCE | RMCP'], 'ABC0145': ['DM', 'IA'], 'ABC0184': ['MSDP', 'IA', 'NDP', 'OOSSE', 'RM', 'ST', 'SESE', 'SQE', 'RMCE | RMCP'], 'ABC0200': [], 'ABC0201': ['NDP', 'OOSSE'], 'ABC0202': ['MSDP', 'NDP'], 'ABC0210': ['MDA | NLP', 'IA'], 'ABC0219': [], 'ABC0225': ['BDAT'], 'ABC0266': [], 'ABC0274': ['IA'], 'ABC0277': ['IA'], 'ABC0291': ['NDP'], 'ABC0501': ['BDAT', 'NDP'], 'ABC0503': ['MDA | NLP', 'MSDP', 'IA', 'NDP', 'OOSSE', 'ST', 'SESE', 'RMCE | RMCP'], 'ABC0555': ['MDA | NLP', 'NDP']}\n",
      "Completed Modules: {'ABC0013': ['DM', 'RMCE | RMCP', 'MSDP', 'IA', 'NDP', 'OOSSE', 'RM', 'ST', 'SESE', 'SQE'], 'ABC0074': ['SESE', 'SQE'], 'ABC0099': ['BDAT', 'MDA | NLP', 'MSDP', 'IA', 'OOSSE', 'RM', 'ST', 'SESE', 'SQE', 'RMCE | RMCP'], 'ABC0106': ['OOSSE', 'SQE', 'RM', 'SESE'], 'ABC0109': ['BDAT', 'DM', 'MSDP', 'ST', 'SESE', 'SQE'], 'ABC0110': ['BDAT', 'MSDP', 'IA', 'OOSSE', 'ST', 'SESE', 'SQE', 'RMCE | RMCP'], 'ABC0112': ['BDAT', 'MSDP', 'OOSSE', 'RM', 'ST', 'SESE', 'SQE', 'RMCE | RMCP'], 'ABC0122': ['RM'], 'ABC0145': ['BDAT', 'MDA | NLP', 'MSDP', 'NDP', 'OOSSE', 'RM', 'ST', 'SESE', 'SQE', 'RMCE | RMCP'], 'ABC0184': ['BDAT', 'DM', 'MDA | NLP'], 'ABC0200': ['BDAT', 'DM', 'MSDP', 'NDP', 'OOSSE', 'RM', 'ST', 'SESE', 'SQE', 'RMCE | RMCP'], 'ABC0201': ['BDAT', 'MDA | NLP', 'MSDP', 'IA', 'RM', 'ST', 'SESE', 'SQE', 'RMCE | RMCP'], 'ABC0202': ['BDAT', 'DM', 'IA', 'OOSSE', 'RM', 'ST', 'SESE', 'SQE', 'RMCE | RMCP'], 'ABC0210': ['BDAT', 'DM', 'MSDP', 'NDP', 'OOSSE', 'RM', 'ST', 'SESE', 'SQE', 'RMCE | RMCP'], 'ABC0219': ['DM', 'MSDP', 'IA', 'OOSSE', 'RM', 'ST', 'SESE', 'SQE', 'RMCE | RMCP'], 'ABC0225': ['DM', 'MSDP', 'IA', 'NDP', 'OOSSE', 'RM', 'ST', 'SESE', 'SQE', 'RMCE | RMCP'], 'ABC0266': ['SESE', 'RM'], 'ABC0274': ['BDAT', 'MDA | NLP', 'RMCE | RMCP', 'MSDP', 'NDP', 'OOSSE', 'RM', 'ST', 'SESE', 'SQE'], 'ABC0277': ['BDAT', 'MDA | NLP', 'RMCE | RMCP', 'MSDP', 'NDP', 'OOSSE', 'RM', 'ST', 'SESE', 'SQE'], 'ABC0291': ['BDAT', 'MDA | NLP', 'RMCE | RMCP', 'MSDP', 'IA', 'OOSSE', 'RM', 'ST', 'SESE', 'SQE'], 'ABC0501': ['DM', 'MDA | NLP', 'RMCE | RMCP', 'MSDP', 'IA', 'OOSSE', 'RM', 'ST', 'SESE', 'SQE'], 'ABC0503': ['BDAT', 'RM', 'SQE'], 'ABC0555': ['BDAT', 'DM', 'MSDP', 'IA', 'OOSSE', 'RM', 'ST', 'SESE', 'SQE', 'RMCE | RMCP']}\n"
     ]
    }
   ],
   "source": [
    "incomplete_modules = {}\n",
    "completed_modules = {}\n",
    "\n",
    "for student_id, modules_info in SE_each_student_info.items():\n",
    "    modules  = modules_info['Modules']\n",
    "    grades = modules_info['Grades']\n",
    "\n",
    "    incomplete_modules[student_id] = []\n",
    "    completed_modules[student_id] = []\n",
    "    \n",
    "    for module, grade in zip(modules, grades):\n",
    "        if pd.isna(grade):\n",
    "            incomplete_modules[student_id].append(module)\n",
    "        else:\n",
    "            completed_modules[student_id].append(module)\n",
    "            \n",
    "print(\"Incomplete Modules:\", incomplete_modules)\n",
    "print(\"Completed Modules:\", completed_modules)"
   ]
  },
  {
   "cell_type": "code",
   "execution_count": 13,
   "metadata": {},
   "outputs": [
    {
     "name": "stdout",
     "output_type": "stream",
     "text": [
      "ABC0013 ['BDAT']\n",
      "ABC0074 ['MSDP', 'NDP', 'OOSSE', 'RM', 'ST', 'RMCE | RMCP']\n",
      "ABC0099 ['NDP']\n",
      "ABC0106 []\n",
      "ABC0109 ['MDA | NLP', 'IA', 'NDP', 'OOSSE', 'RM', 'RMCE | RMCP']\n",
      "ABC0110 ['DM', 'NDP', 'RM']\n",
      "ABC0112 ['DM', 'MDA | NLP', 'IA', 'NDP']\n",
      "ABC0122 ['BDAT', 'MDA | NLP', 'MSDP', 'IA', 'NDP', 'OOSSE', 'ST', 'SESE', 'SQE', 'RMCE | RMCP']\n",
      "ABC0145 ['DM', 'IA']\n",
      "ABC0184 ['MSDP', 'IA', 'NDP', 'OOSSE', 'RM', 'ST', 'SESE', 'SQE', 'RMCE | RMCP']\n",
      "ABC0200 []\n",
      "ABC0201 ['NDP', 'OOSSE']\n",
      "ABC0202 ['MSDP', 'NDP']\n",
      "ABC0210 ['MDA | NLP', 'IA']\n",
      "ABC0219 []\n",
      "ABC0225 ['BDAT']\n",
      "ABC0266 []\n",
      "ABC0274 ['IA']\n",
      "ABC0277 ['IA']\n",
      "ABC0291 ['NDP']\n",
      "ABC0501 ['BDAT', 'NDP']\n",
      "ABC0503 ['MDA | NLP', 'MSDP', 'IA', 'NDP', 'OOSSE', 'ST', 'SESE', 'RMCE | RMCP']\n",
      "ABC0555 ['MDA | NLP', 'NDP']\n"
     ]
    }
   ],
   "source": [
    "for student_id, module in incomplete_modules.items():\n",
    "    print(student_id, module)"
   ]
  },
  {
   "cell_type": "code",
   "execution_count": 14,
   "metadata": {},
   "outputs": [
    {
     "name": "stdout",
     "output_type": "stream",
     "text": [
      "Incomplete Modules: {'ABC0013': [], 'ABC0074': ['MSDP', 'OOSSE', 'RM', 'ST', 'RMCE | RMCP'], 'ABC0099': [], 'ABC0106': [], 'ABC0109': ['OOSSE', 'RM', 'RMCE | RMCP'], 'ABC0110': ['RM'], 'ABC0112': [], 'ABC0122': ['MSDP', 'OOSSE', 'ST', 'SESE', 'SQE', 'RMCE | RMCP'], 'ABC0145': [], 'ABC0184': ['MSDP', 'OOSSE', 'RM', 'ST', 'SESE', 'SQE', 'RMCE | RMCP'], 'ABC0200': [], 'ABC0201': ['OOSSE'], 'ABC0202': ['MSDP'], 'ABC0210': [], 'ABC0219': [], 'ABC0225': [], 'ABC0266': [], 'ABC0274': [], 'ABC0277': [], 'ABC0291': [], 'ABC0501': [], 'ABC0503': ['MSDP', 'OOSSE', 'ST', 'SESE', 'RMCE | RMCP'], 'ABC0555': []}\n",
      "Completed Modules: {'ABC0013': ['DM', 'RMCE | RMCP', 'MSDP', 'IA', 'NDP', 'OOSSE', 'RM', 'ST', 'SESE', 'SQE', 'BDAT'], 'ABC0074': ['SESE', 'SQE', 'NDP'], 'ABC0099': ['BDAT', 'MDA | NLP', 'MSDP', 'IA', 'OOSSE', 'RM', 'ST', 'SESE', 'SQE', 'RMCE | RMCP', 'NDP'], 'ABC0106': ['OOSSE', 'SQE', 'RM', 'SESE'], 'ABC0109': ['BDAT', 'DM', 'MSDP', 'ST', 'SESE', 'SQE', 'NDP', 'MDA | NLP', 'IA'], 'ABC0110': ['BDAT', 'MSDP', 'IA', 'OOSSE', 'ST', 'SESE', 'SQE', 'RMCE | RMCP', 'DM', 'NDP'], 'ABC0112': ['BDAT', 'MSDP', 'OOSSE', 'RM', 'ST', 'SESE', 'SQE', 'RMCE | RMCP', 'IA', 'MDA | NLP', 'DM', 'NDP'], 'ABC0122': ['RM', 'NDP', 'MDA | NLP', 'BDAT', 'IA'], 'ABC0145': ['BDAT', 'MDA | NLP', 'MSDP', 'NDP', 'OOSSE', 'RM', 'ST', 'SESE', 'SQE', 'RMCE | RMCP', 'DM', 'IA'], 'ABC0184': ['BDAT', 'DM', 'MDA | NLP', 'NDP', 'IA'], 'ABC0200': ['BDAT', 'DM', 'MSDP', 'NDP', 'OOSSE', 'RM', 'ST', 'SESE', 'SQE', 'RMCE | RMCP'], 'ABC0201': ['BDAT', 'MDA | NLP', 'MSDP', 'IA', 'RM', 'ST', 'SESE', 'SQE', 'RMCE | RMCP', 'NDP'], 'ABC0202': ['BDAT', 'DM', 'IA', 'OOSSE', 'RM', 'ST', 'SESE', 'SQE', 'RMCE | RMCP', 'NDP'], 'ABC0210': ['BDAT', 'DM', 'MSDP', 'NDP', 'OOSSE', 'RM', 'ST', 'SESE', 'SQE', 'RMCE | RMCP', 'MDA | NLP', 'IA'], 'ABC0219': ['DM', 'MSDP', 'IA', 'OOSSE', 'RM', 'ST', 'SESE', 'SQE', 'RMCE | RMCP'], 'ABC0225': ['DM', 'MSDP', 'IA', 'NDP', 'OOSSE', 'RM', 'ST', 'SESE', 'SQE', 'RMCE | RMCP', 'BDAT'], 'ABC0266': ['SESE', 'RM'], 'ABC0274': ['BDAT', 'MDA | NLP', 'RMCE | RMCP', 'MSDP', 'NDP', 'OOSSE', 'RM', 'ST', 'SESE', 'SQE', 'IA'], 'ABC0277': ['BDAT', 'MDA | NLP', 'RMCE | RMCP', 'MSDP', 'NDP', 'OOSSE', 'RM', 'ST', 'SESE', 'SQE', 'IA'], 'ABC0291': ['BDAT', 'MDA | NLP', 'RMCE | RMCP', 'MSDP', 'IA', 'OOSSE', 'RM', 'ST', 'SESE', 'SQE', 'NDP'], 'ABC0501': ['DM', 'MDA | NLP', 'RMCE | RMCP', 'MSDP', 'IA', 'OOSSE', 'RM', 'ST', 'SESE', 'SQE', 'BDAT', 'NDP'], 'ABC0503': ['BDAT', 'RM', 'SQE', 'NDP', 'MDA | NLP', 'IA'], 'ABC0555': ['BDAT', 'DM', 'MSDP', 'IA', 'OOSSE', 'RM', 'ST', 'SESE', 'SQE', 'RMCE | RMCP', 'MDA | NLP', 'NDP']}\n"
     ]
    }
   ],
   "source": [
    "elective = [\"BDAT\", \"DM\", \"IA\", \"MDA | NLP\", \"NDP\"]\n",
    "for student_id, completed_modules_info in completed_modules.items():\n",
    "    completed_elective = set(completed_modules_info) & set(elective)\n",
    "    \n",
    "    if len(completed_elective) == 3:\n",
    "        for student_id, incomplete_modules_info in incomplete_modules.items():\n",
    "            extra_elective = set(incomplete_modules_info) & set(elective)\n",
    "            \n",
    "            for module in extra_elective:\n",
    "                completed_modules[student_id].append(module)\n",
    "                incomplete_modules_info.remove(module)\n",
    "                \n",
    "print(\"Incomplete Modules:\", incomplete_modules)\n",
    "print(\"Completed Modules:\", completed_modules)"
   ]
  },
  {
   "cell_type": "code",
   "execution_count": 15,
   "metadata": {},
   "outputs": [
    {
     "name": "stdout",
     "output_type": "stream",
     "text": [
      "ABC0013 []\n",
      "ABC0074 ['MSDP', 'OOSSE', 'RM', 'ST', 'RMCE | RMCP']\n",
      "ABC0099 []\n",
      "ABC0106 []\n",
      "ABC0109 ['OOSSE', 'RM', 'RMCE | RMCP']\n",
      "ABC0110 ['RM']\n",
      "ABC0112 []\n",
      "ABC0122 ['MSDP', 'OOSSE', 'ST', 'SESE', 'SQE', 'RMCE | RMCP']\n",
      "ABC0145 []\n",
      "ABC0184 ['MSDP', 'OOSSE', 'RM', 'ST', 'SESE', 'SQE', 'RMCE | RMCP']\n",
      "ABC0200 []\n",
      "ABC0201 ['OOSSE']\n",
      "ABC0202 ['MSDP']\n",
      "ABC0210 []\n",
      "ABC0219 []\n",
      "ABC0225 []\n",
      "ABC0266 []\n",
      "ABC0274 []\n",
      "ABC0277 []\n",
      "ABC0291 []\n",
      "ABC0501 []\n",
      "ABC0503 ['MSDP', 'OOSSE', 'ST', 'SESE', 'RMCE | RMCP']\n",
      "ABC0555 []\n"
     ]
    }
   ],
   "source": [
    "for student_id, module in incomplete_modules.items():\n",
    "    print(student_id, module)"
   ]
  }
 ],
 "metadata": {
  "kernelspec": {
   "display_name": "Python 3",
   "language": "python",
   "name": "python3"
  },
  "language_info": {
   "codemirror_mode": {
    "name": "ipython",
    "version": 3
   },
   "file_extension": ".py",
   "mimetype": "text/x-python",
   "name": "python",
   "nbconvert_exporter": "python",
   "pygments_lexer": "ipython3",
   "version": "3.13.0"
  }
 },
 "nbformat": 4,
 "nbformat_minor": 2
}
